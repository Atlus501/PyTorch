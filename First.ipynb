{
  "nbformat": 4,
  "nbformat_minor": 0,
  "metadata": {
    "colab": {
      "provenance": [],
      "gpuType": "T4",
      "authorship_tag": "ABX9TyOkFOub/HqdId67FhUh6tzI",
      "include_colab_link": true
    },
    "kernelspec": {
      "name": "python3",
      "display_name": "Python 3"
    },
    "language_info": {
      "name": "python"
    },
    "accelerator": "GPU"
  },
  "cells": [
    {
      "cell_type": "markdown",
      "metadata": {
        "id": "view-in-github",
        "colab_type": "text"
      },
      "source": [
        "<a href=\"https://colab.research.google.com/github/Atlus501/PyTorch/blob/main/First.ipynb\" target=\"_parent\"><img src=\"https://colab.research.google.com/assets/colab-badge.svg\" alt=\"Open In Colab\"/></a>"
      ]
    },
    {
      "cell_type": "markdown",
      "source": [
        "This is my first file that will document my pytorch journey\n",
        "\n",
        "The source is www.learnpytorch.io/00_pytorch_fundamentals/\n",
        "\n",
        "use machine learning in situations with long lists of rules, continually changing environments.\n",
        "\n",
        "PyTorch is the most popular research deep learning framework in python. There are many pre-built deep learning models.\n",
        "\n",
        "Whole stack: preprocess data, model data, deploy model in your application/cloud."
      ],
      "metadata": {
        "id": "l0lgDQo8mriX"
      }
    },
    {
      "cell_type": "code",
      "source": [
        "import torch\n",
        "import pandas as pd\n",
        "import numpy as np\n",
        "import matplotlib.pyplot as plt\n",
        "\n",
        "print(torch.__version__)"
      ],
      "metadata": {
        "colab": {
          "base_uri": "https://localhost:8080/"
        },
        "id": "0z0dZs2cn6Sw",
        "outputId": "6a69fac5-6fd9-4bc7-bf0b-b65037a68e49"
      },
      "execution_count": null,
      "outputs": [
        {
          "output_type": "stream",
          "name": "stdout",
          "text": [
            "2.6.0+cu124\n"
          ]
        }
      ]
    },
    {
      "cell_type": "markdown",
      "source": [
        "#Introduction to Tensors\n",
        "\n",
        "Main building block of DL and data.\n",
        "\n",
        "Ways to represent multidimensional numeric data\n",
        "\n",
        "Scalars and vectors are lowercased. Matrices and tensors are uppercased."
      ],
      "metadata": {
        "id": "CBOBZdUypX9B"
      }
    },
    {
      "cell_type": "code",
      "source": [
        "#scalar\n",
        "#it has no dimensions, it is just a single number\n",
        "\n",
        "scalar = torch.tensor(7)\n",
        "scalar\n",
        "\n",
        "scalar.ndim\n",
        "scalar.item()"
      ],
      "metadata": {
        "colab": {
          "base_uri": "https://localhost:8080/"
        },
        "id": "uBRRnEwhpvsA",
        "outputId": "5032b26a-68f5-4363-e5b1-30628dd9b5d3"
      },
      "execution_count": null,
      "outputs": [
        {
          "output_type": "execute_result",
          "data": {
            "text/plain": [
              "7"
            ]
          },
          "metadata": {},
          "execution_count": 3
        }
      ]
    },
    {
      "cell_type": "code",
      "source": [
        "#vector\n",
        "#it has 1 dimension. It has a magnitude and direction\n",
        "#think of number of dimensions as the number of pairs of square brackets\n",
        "\n",
        "vector = torch.tensor([7,7])\n",
        "vector.shape"
      ],
      "metadata": {
        "colab": {
          "base_uri": "https://localhost:8080/"
        },
        "id": "HnSA5vfLqmDV",
        "outputId": "3aafb857-6457-4045-f5a3-44f83b5668fb"
      },
      "execution_count": null,
      "outputs": [
        {
          "output_type": "execute_result",
          "data": {
            "text/plain": [
              "torch.Size([2])"
            ]
          },
          "metadata": {},
          "execution_count": 7
        }
      ]
    },
    {
      "cell_type": "code",
      "source": [
        "#matrix\n",
        "MATRIX = torch.tensor([[7, 8], [1, 2]])\n",
        "MATRIX.ndim"
      ],
      "metadata": {
        "colab": {
          "base_uri": "https://localhost:8080/"
        },
        "id": "0HWeuZ4Jqxmx",
        "outputId": "8ba59541-553d-4edf-98d8-5037b99f0e8a"
      },
      "execution_count": null,
      "outputs": [
        {
          "output_type": "execute_result",
          "data": {
            "text/plain": [
              "2"
            ]
          },
          "metadata": {},
          "execution_count": 9
        }
      ]
    },
    {
      "cell_type": "code",
      "source": [
        "#TENSOR\n",
        "TENSOR = torch.tensor([[[1, 2, 3],\n",
        "                        [3, 6, 9],\n",
        "                        [2, 4, 5]],\n",
        "                         [[3, 4, 6], [6, 7, 9], [1, 90, 2]]])\n",
        "TENSOR.shape"
      ],
      "metadata": {
        "colab": {
          "base_uri": "https://localhost:8080/"
        },
        "id": "eo-BX0KWrJQy",
        "outputId": "da53de9e-8643-4dd7-c7e4-88f37b003625"
      },
      "execution_count": null,
      "outputs": [
        {
          "output_type": "execute_result",
          "data": {
            "text/plain": [
              "torch.Size([2, 3, 3])"
            ]
          },
          "metadata": {},
          "execution_count": 11
        }
      ]
    },
    {
      "cell_type": "markdown",
      "source": [
        "#Random Tensors\n",
        "\n",
        "Important because many neural networks start with random numbers and then adjust those to better represent the data when failure arrives."
      ],
      "metadata": {
        "id": "qWbf0-x2srYg"
      }
    },
    {
      "cell_type": "code",
      "source": [
        "random_tensor = torch.rand(3,4)\n",
        "\n",
        "random_tensor = torch.zeros(3,4)\n",
        "random_tensor"
      ],
      "metadata": {
        "colab": {
          "base_uri": "https://localhost:8080/"
        },
        "id": "q4bWmyoJryJX",
        "outputId": "0bf1f0b0-ebae-4cdd-a501-d1b3b5d02937"
      },
      "execution_count": null,
      "outputs": [
        {
          "output_type": "execute_result",
          "data": {
            "text/plain": [
              "tensor([[0., 0., 0., 0.],\n",
              "        [0., 0., 0., 0.],\n",
              "        [0., 0., 0., 0.]])"
            ]
          },
          "metadata": {},
          "execution_count": 21
        }
      ]
    },
    {
      "cell_type": "code",
      "source": [
        "#Create a random tensor with similar shape to an image tensor\n",
        "random_image_size_tensor = torch.rand(size=(224, 224, 3)) #height, width, color channels\n",
        "\n",
        "random_image_size_tensor.shape, random_image_size_tensor.ndim"
      ],
      "metadata": {
        "colab": {
          "base_uri": "https://localhost:8080/"
        },
        "id": "5zMnFz0wtL13",
        "outputId": "e56abf98-c9b2-4914-baa9-7a5432c3f1e8"
      },
      "execution_count": null,
      "outputs": [
        {
          "output_type": "execute_result",
          "data": {
            "text/plain": [
              "(torch.Size([224, 224, 3]), 3)"
            ]
          },
          "metadata": {},
          "execution_count": 13
        }
      ]
    },
    {
      "cell_type": "markdown",
      "source": [
        "#Creating a range of tensors and tensors-like"
      ],
      "metadata": {
        "id": "Wcg4Q3kguZo4"
      }
    },
    {
      "cell_type": "code",
      "source": [
        "test = torch.arange(1, 21, 2)\n",
        "\n",
        "#creating tensors like\n",
        "# a tensor like is a tensor that has the same shape as another tensor\n",
        "ten_zeros = torch.ones_like(input=test)\n",
        "ten_zeros"
      ],
      "metadata": {
        "colab": {
          "base_uri": "https://localhost:8080/"
        },
        "id": "C1hWYVWrtsWj",
        "outputId": "acb7e098-ec0f-41ef-8568-d8f347b73423"
      },
      "execution_count": null,
      "outputs": [
        {
          "output_type": "execute_result",
          "data": {
            "text/plain": [
              "tensor([1, 1, 1, 1, 1, 1, 1, 1, 1, 1])"
            ]
          },
          "metadata": {},
          "execution_count": 32
        }
      ]
    },
    {
      "cell_type": "markdown",
      "source": [
        "#Tensor DataTypes\n",
        "\n",
        "Most common erros are:\n",
        "1.  Tensors not right datatype\n",
        "2. Tensors not right shape\n",
        "3. Tensors not on the right device"
      ],
      "metadata": {
        "id": "tX_5eSNMv5R4"
      }
    },
    {
      "cell_type": "code",
      "source": [
        "#creates a tensor of float 32s\n",
        "float_32_tensor = torch.tensor([3.0, 6.0, 9.0],\n",
        "                               dtype=int #datatype of tensor\n",
        "                               , device='cuda' #the hardware that the tensor lives on\n",
        "                               , requires_grad=False) # tracking tensor gradient after specific operations?\n",
        "float_32_tensor.dtype"
      ],
      "metadata": {
        "colab": {
          "base_uri": "https://localhost:8080/"
        },
        "id": "qpAF1lrwvbb6",
        "outputId": "df07ce27-b7ec-4edc-a3ed-d974d65b6cb2"
      },
      "execution_count": null,
      "outputs": [
        {
          "output_type": "execute_result",
          "data": {
            "text/plain": [
              "torch.int64"
            ]
          },
          "metadata": {},
          "execution_count": 37
        }
      ]
    },
    {
      "cell_type": "code",
      "source": [
        "float_16_tensor = float_32_tensor.type(torch.float16)\n",
        "float_16_tensor.device"
      ],
      "metadata": {
        "colab": {
          "base_uri": "https://localhost:8080/"
        },
        "id": "483SOKdUwFWF",
        "outputId": "e849e61a-9ad6-4fe1-908c-93e47fc522f7"
      },
      "execution_count": null,
      "outputs": [
        {
          "output_type": "execute_result",
          "data": {
            "text/plain": [
              "device(type='cpu')"
            ]
          },
          "metadata": {},
          "execution_count": 38
        }
      ]
    },
    {
      "cell_type": "markdown",
      "source": [
        "#Tensor Operations\n",
        "\n",
        "They include\n",
        "* the primary 4 operations\n",
        "* matrix multiplication"
      ],
      "metadata": {
        "id": "srw8AQFi6e-T"
      }
    },
    {
      "cell_type": "code",
      "source": [
        "test = torch.tensor([1, 2, 3])\n",
        "test + 10"
      ],
      "metadata": {
        "colab": {
          "base_uri": "https://localhost:8080/"
        },
        "id": "bUJgdiNnx5TT",
        "outputId": "f50c8667-5919-4b11-c9d2-118c48ec94a6"
      },
      "execution_count": null,
      "outputs": [
        {
          "output_type": "execute_result",
          "data": {
            "text/plain": [
              "tensor([11, 12, 13])"
            ]
          },
          "metadata": {},
          "execution_count": 39
        }
      ]
    },
    {
      "cell_type": "code",
      "source": [
        "test * 10"
      ],
      "metadata": {
        "colab": {
          "base_uri": "https://localhost:8080/"
        },
        "id": "ImwkE00660fG",
        "outputId": "6e652687-18d7-4f74-fa9d-e119c46aee30"
      },
      "execution_count": null,
      "outputs": [
        {
          "output_type": "execute_result",
          "data": {
            "text/plain": [
              "tensor([10, 20, 30])"
            ]
          },
          "metadata": {},
          "execution_count": 45
        }
      ]
    },
    {
      "cell_type": "markdown",
      "source": [
        "#Matrix Multiplcation\n",
        "\n"
      ],
      "metadata": {
        "id": "NZQzv6rs7ti7"
      }
    },
    {
      "cell_type": "code",
      "source": [
        "#syntax for matrix multiplication\n",
        "torch.matmul(test, test)"
      ],
      "metadata": {
        "colab": {
          "base_uri": "https://localhost:8080/"
        },
        "id": "MrNBilWg7Icq",
        "outputId": "8b756962-c19d-492e-f565-093fae873b3b"
      },
      "execution_count": null,
      "outputs": [
        {
          "output_type": "execute_result",
          "data": {
            "text/plain": [
              "tensor(14)"
            ]
          },
          "metadata": {},
          "execution_count": 47
        }
      ]
    },
    {
      "cell_type": "markdown",
      "source": [
        "#Matrix Aggregation\n",
        "\n",
        "This includes"
      ],
      "metadata": {
        "id": "TlbQ0BU-CS-u"
      }
    },
    {
      "cell_type": "code",
      "source": [
        "test = torch.rand(8)\n",
        "test"
      ],
      "metadata": {
        "colab": {
          "base_uri": "https://localhost:8080/"
        },
        "id": "hPmwRYVO8A3J",
        "outputId": "43d51440-2ec0-4af2-cfa7-b7dc3ff319cf"
      },
      "execution_count": null,
      "outputs": [
        {
          "output_type": "execute_result",
          "data": {
            "text/plain": [
              "tensor([0.1256, 0.6574, 0.2906, 0.0177, 0.7735, 0.5678, 0.2920, 0.6182])"
            ]
          },
          "metadata": {},
          "execution_count": 52
        }
      ]
    },
    {
      "cell_type": "markdown",
      "source": [
        "\n",
        "\n",
        "*   List item\n",
        "*   List item\n",
        "\n"
      ],
      "metadata": {
        "id": "LKjwxSKWC-Xl"
      }
    },
    {
      "cell_type": "code",
      "source": [
        "test.mean()"
      ],
      "metadata": {
        "colab": {
          "base_uri": "https://localhost:8080/"
        },
        "id": "7-lDp-S_ClQ7",
        "outputId": "6ab47955-21e3-4100-a645-9b4f54d74ac0"
      },
      "execution_count": null,
      "outputs": [
        {
          "output_type": "execute_result",
          "data": {
            "text/plain": [
              "tensor(0.4178)"
            ]
          },
          "metadata": {},
          "execution_count": 58
        }
      ]
    },
    {
      "cell_type": "code",
      "source": [
        "torch.mean(test.type(torch.float32))"
      ],
      "metadata": {
        "colab": {
          "base_uri": "https://localhost:8080/"
        },
        "id": "Lh2KeyoRCtDa",
        "outputId": "e830600c-e65d-4fd6-f1c3-f80b07212a9b"
      },
      "execution_count": null,
      "outputs": [
        {
          "output_type": "execute_result",
          "data": {
            "text/plain": [
              "tensor(0.4178)"
            ]
          },
          "metadata": {},
          "execution_count": 57
        }
      ]
    },
    {
      "cell_type": "code",
      "source": [
        "test.argmin()"
      ],
      "metadata": {
        "colab": {
          "base_uri": "https://localhost:8080/"
        },
        "id": "88XH3wEoC90n",
        "outputId": "dd45d9f5-4cd8-4ba9-ffff-1b81affaa0ea"
      },
      "execution_count": null,
      "outputs": [
        {
          "output_type": "execute_result",
          "data": {
            "text/plain": [
              "tensor(3)"
            ]
          },
          "metadata": {},
          "execution_count": 59
        }
      ]
    },
    {
      "cell_type": "markdown",
      "source": [
        "#Rehsaping, viewing and stacking"
      ],
      "metadata": {
        "id": "aOINplxXUunT"
      }
    },
    {
      "cell_type": "code",
      "source": [
        "#reshaping a tensor\n",
        "#the new shape of the tensor must be compatible with the number of elements\n",
        "test = torch.arange(2, 10)\n",
        "test.reshape(2, 4)\n",
        "test"
      ],
      "metadata": {
        "id": "xK-pUjHrDQwW",
        "colab": {
          "base_uri": "https://localhost:8080/"
        },
        "outputId": "fa3db565-8a9e-4a59-a3f2-d589fca2a030"
      },
      "execution_count": null,
      "outputs": [
        {
          "output_type": "execute_result",
          "data": {
            "text/plain": [
              "tensor([2, 3, 4, 5, 6, 7, 8, 9])"
            ]
          },
          "metadata": {},
          "execution_count": 5
        }
      ]
    },
    {
      "cell_type": "code",
      "source": [
        "#a view share the original memory of the original tensor\n",
        "#i.e., it is a shallow copy where any changes to this tensor is reflected in the original\n",
        "newView = test.view(8)\n",
        "newView[1:4:2] = -3\n",
        "newView"
      ],
      "metadata": {
        "colab": {
          "base_uri": "https://localhost:8080/"
        },
        "id": "zLa0ZlFoVC9m",
        "outputId": "b8dea632-c3ae-4cdd-f178-e52d892328f1"
      },
      "execution_count": null,
      "outputs": [
        {
          "output_type": "execute_result",
          "data": {
            "text/plain": [
              "tensor([  2,  -3, -11,  -3, -11,   7,   8,   9])"
            ]
          },
          "metadata": {},
          "execution_count": 14
        }
      ]
    },
    {
      "cell_type": "code",
      "source": [
        "#takes a bunch of tensors and stacks them on the axis that you indicate\n",
        "#e.g., dim = 0 stackes them vertically while dim = 1 stacks them horizontally\n",
        "#there are also hstack and vstack\n",
        "stack = torch.stack([test, test, test], dim=0)\n",
        "stack = torch.unsqueeze(stack, dim = 0)"
      ],
      "metadata": {
        "colab": {
          "base_uri": "https://localhost:8080/"
        },
        "id": "kzaqu9k9Vkox",
        "outputId": "d0093f3b-b382-42ca-fb65-50da46f5d160"
      },
      "execution_count": null,
      "outputs": [
        {
          "output_type": "execute_result",
          "data": {
            "text/plain": [
              "tensor([[  2,  -3, -11,  -3, -11,   7,   8,   9],\n",
              "        [  2,  -3, -11,  -3, -11,   7,   8,   9],\n",
              "        [  2,  -3, -11,  -3, -11,   7,   8,   9]])"
            ]
          },
          "metadata": {},
          "execution_count": 29
        }
      ]
    },
    {
      "cell_type": "markdown",
      "source": [
        "#Squeeze, unsqueeze, and permuting"
      ],
      "metadata": {
        "id": "blB5P3v_XHNH"
      }
    },
    {
      "cell_type": "code",
      "source": [
        "#there is also squeeze and unsqueeze\n",
        "#squeeze() removes all single dimesions from a target\n",
        "stack_sq = stack.squeeze()\n",
        "stack_sq.squeeze()\n",
        "\n",
        "#unsqueeze adds a 1 dimension to a target tensor\n",
        "stack_sq.unsqueeze(dim=2)\n",
        "stack_sq"
      ],
      "metadata": {
        "colab": {
          "base_uri": "https://localhost:8080/"
        },
        "id": "-7I2XBw0WEp9",
        "outputId": "875e396f-6a72-4dba-d415-56b9528e3a45"
      },
      "execution_count": null,
      "outputs": [
        {
          "output_type": "execute_result",
          "data": {
            "text/plain": [
              "tensor([[  2,  -3, -11,  -3, -11,   7,   8,   9],\n",
              "        [  2,  -3, -11,  -3, -11,   7,   8,   9],\n",
              "        [  2,  -3, -11,  -3, -11,   7,   8,   9]])"
            ]
          },
          "metadata": {},
          "execution_count": 44
        }
      ]
    },
    {
      "cell_type": "code",
      "source": [
        "#torch.permute() basically, it switches the dimensions of the tensor\n",
        "stack_sq.permute(1, 0)\n",
        "stack_sq = stack_sq[0: 1][:]\n",
        "stack_sq"
      ],
      "metadata": {
        "colab": {
          "base_uri": "https://localhost:8080/"
        },
        "id": "T4BzXBBsXch2",
        "outputId": "1dbeb711-4da5-48de-d0b0-353a953ae6c0"
      },
      "execution_count": null,
      "outputs": [
        {
          "output_type": "execute_result",
          "data": {
            "text/plain": [
              "tensor([[  2,  -3, -11,  -3, -11,   7,   8,   9]])"
            ]
          },
          "metadata": {},
          "execution_count": 62
        }
      ]
    },
    {
      "cell_type": "markdown",
      "source": [
        "#NumPy\n",
        "NumPy is a popular scientific Python numerical computing library. And because of this, PyTorch has functionality to interact with it. Data in NumPy,"
      ],
      "metadata": {
        "id": "zy1NTnChZr3R"
      }
    },
    {
      "cell_type": "code",
      "source": [
        "#changing data from numpy array into tensor\n",
        "#changing the values from the tensor doesn't change anything in the array\n",
        "random = np.random.random(5)\n",
        "stack_sq = torch.from_numpy(random)\n",
        "stack_sq.type(torch.float32)"
      ],
      "metadata": {
        "colab": {
          "base_uri": "https://localhost:8080/"
        },
        "id": "DucVTguwYssA",
        "outputId": "e1fccc84-437a-4709-eb0f-495d762010c3"
      },
      "execution_count": null,
      "outputs": [
        {
          "output_type": "execute_result",
          "data": {
            "text/plain": [
              "tensor([0.7215, 0.7761, 0.2911, 0.5751, 0.4784])"
            ]
          },
          "metadata": {},
          "execution_count": 72
        }
      ]
    },
    {
      "cell_type": "code",
      "source": [
        "stack_sq.numpy()"
      ],
      "metadata": {
        "colab": {
          "base_uri": "https://localhost:8080/"
        },
        "id": "J0_hwwdxaePO",
        "outputId": "4937d9e8-6a94-4d0a-fbad-966b54a2d23e"
      },
      "execution_count": null,
      "outputs": [
        {
          "output_type": "execute_result",
          "data": {
            "text/plain": [
              "dtype('float64')"
            ]
          },
          "metadata": {},
          "execution_count": 78
        }
      ]
    },
    {
      "cell_type": "markdown",
      "source": [
        "#Reproducability\n",
        "\n",
        "Trying to thake the random out of random. I.e., how a neurnetwork learns before the neuro-network updates random numbers to make better representations of the data.\n",
        "\n",
        "Reducing the randomness in neural networks comes the concept of a random seed. It essentially flavors the randomness of the machine."
      ],
      "metadata": {
        "id": "w2ie5bwwcJc2"
      }
    },
    {
      "cell_type": "code",
      "source": [
        "#this method sets the random seed of a machine\n",
        "torch.manual_seed(42)\n",
        "test = torch.rand(3, 4)\n",
        "test"
      ],
      "metadata": {
        "colab": {
          "base_uri": "https://localhost:8080/"
        },
        "id": "tKg8wMokb4m9",
        "outputId": "796297d8-442b-4749-b5fd-0b527a7685bf"
      },
      "execution_count": null,
      "outputs": [
        {
          "output_type": "execute_result",
          "data": {
            "text/plain": [
              "tensor([[0.8823, 0.9150, 0.3829, 0.9593],\n",
              "        [0.3904, 0.6009, 0.2566, 0.7936],\n",
              "        [0.9408, 0.1332, 0.9346, 0.5936]])"
            ]
          },
          "metadata": {},
          "execution_count": 83
        }
      ]
    },
    {
      "cell_type": "code",
      "source": [
        "#This is a method that sets the device of the tesnor to the cpu\n",
        "test.cpu()"
      ],
      "metadata": {
        "colab": {
          "base_uri": "https://localhost:8080/"
        },
        "id": "y2lH5fDSc-si",
        "outputId": "a20f514a-e00d-4c29-af41-c6f6b5764eec"
      },
      "execution_count": null,
      "outputs": [
        {
          "output_type": "execute_result",
          "data": {
            "text/plain": [
              "tensor([[0.8823, 0.9150, 0.3829, 0.9593],\n",
              "        [0.3904, 0.6009, 0.2566, 0.7936],\n",
              "        [0.9408, 0.1332, 0.9346, 0.5936]])"
            ]
          },
          "metadata": {},
          "execution_count": 84
        }
      ]
    },
    {
      "cell_type": "code",
      "source": [],
      "metadata": {
        "id": "FQQRe54wea2Y"
      },
      "execution_count": null,
      "outputs": []
    },
    {
      "cell_type": "markdown",
      "source": [
        "#Creating a dataset with linear regression\n",
        "\n",
        "Let's use a simple regression model to predict data using known parameters."
      ],
      "metadata": {
        "id": "toOB-ZStfQJB"
      }
    },
    {
      "cell_type": "code",
      "source": [
        "weight = 0.7 #this is the slope of the linear regression model\n",
        "bias = 0.7 #this is the x=intercept of the linear regression model\n",
        "\n",
        "#create\n",
        "start = 0\n",
        "end = 1\n",
        "step = 1.0/20.0\n",
        "X = torch.arange(start, end, step).unsqueeze(dim=1) #input\n",
        "y = weight * X + bias #output\n"
      ],
      "metadata": {
        "id": "iv7wDdeAfTrk"
      },
      "execution_count": null,
      "outputs": []
    },
    {
      "cell_type": "code",
      "source": [
        "#now you need to split the data into training and validation sets\n",
        "train_split = int(0.8 * len(X))\n",
        "X_train, y_train = X[:train_split], y[:train_split]\n",
        "X_test, y_test = X[train_split:], y[train_split:]\n",
        "\n",
        "def plot_prediction(train_data = X_train,\n",
        "                     train_labels = y_train,\n",
        "                     test_data = X_test,\n",
        "                     test_labels = y_test,\n",
        "                     predictions = None):\n",
        "  plt.figure(figsize=(10,7))\n",
        "  plt.scatter(train_data, train_labels, c='b', s=4, label='training data')\n",
        "  plt.scatter(test_data, test_labels, c='g', s=4, label='testing data')\n",
        "\n",
        "  if predictions is not None:\n",
        "    plt.scatter(test_data, predictions, c='r', s=4, label='predictions')\n",
        "\n",
        "  plt.legend(prop={'size':14})\n",
        "  plt.show()\n",
        "\n",
        "plot_prediction()"
      ],
      "metadata": {
        "colab": {
          "base_uri": "https://localhost:8080/",
          "height": 460
        },
        "id": "HvqQwiJ2gCl4",
        "outputId": "69d5fc56-15bb-4cc2-9ad5-ba74a0a5c952"
      },
      "execution_count": null,
      "outputs": [
        {
          "output_type": "display_data",
          "data": {
            "text/plain": [
              "<Figure size 1000x700 with 1 Axes>"
            ],
            "image/png": "[encoded data removed]"
          },
          "metadata": {}
        }
      ]
    },
    {
      "cell_type": "markdown",
      "source": [
        "#Build Model\n",
        "\n",
        "Algorithms that it uses to correct the data is gradient descent and back propagation.\n",
        "\n",
        "Essental models are torch.nn (contains all of the building blocks for comptuational graphs).\n",
        "\n",
        "torch.nn.Module: the base class for all neural network modeules, all the bulding blocks for neual networks are subclasses. It requires a forward() method to be implemented\n",
        "\n",
        "torch.optim: contains various optimization algorithms (these tall the model parameters sotred in nn.Parameter how to best change to improve gradient descent and in turn reduce the loss)\n",
        "\n",
        "torch.utils.data.Dataset: represents a map between key (label) and sample (features) pairs of your data. Such as images and thei associated labels.\n",
        "\n",
        "torch.utils.data.DataLoader: creates a python iterable over a torch Dataset (allows you to iterate over your data)"
      ],
      "metadata": {
        "id": "yonwuKicinZS"
      }
    },
    {
      "cell_type": "code",
      "source": [
        "import torch.nn as nn\n",
        "\n",
        "#nn.Module is the base class for all neural network modules\n",
        "#all models should be subclasses of this class\n",
        "class LinearRegressionModel(nn.Module):\n",
        "  def __init__(self):\n",
        "    super().__init__()\n",
        "    #parameters are torch.Tensor subclasses when used with Modules because they are automatically\n",
        "    #added to the list of parameters\n",
        "    #requires_grad is stating if this parameter can be udpated via gradient descent\n",
        "    self.weights = nn.Parameter(torch.randn(1, requires_grad=True, dtype=torch.float))\n",
        "    self.bias = nn.Parameter(torch.randn(1, requires_grad=True, dtype=torch.float))\n",
        "\n",
        "    #Foward method to define the computationa in the model\n",
        "  def forward(self, x: torch.Tensor) -> torch.Tensor:\n",
        "    return self.weights * x + self.bias #this is the linear regression formula\n",
        "\n",
        "torch.manual_seed(42)\n",
        "\n",
        "model_0 = LinearRegressionModel()"
      ],
      "metadata": {
        "id": "tXKHgyyeiPuE"
      },
      "execution_count": null,
      "outputs": []
    },
    {
      "cell_type": "code",
      "source": [
        "#context manager\n",
        "#what we use when we are making predictions\n",
        "def test(model):\n",
        "  with torch.inference_mode():\n",
        "    y_preds = model(X_test)\n",
        "    plot_prediction(predictions = y_preds)\n"
      ],
      "metadata": {
        "id": "lkmiw-s7VSLk"
      },
      "execution_count": null,
      "outputs": []
    },
    {
      "cell_type": "markdown",
      "source": [
        "Loss function: a function to measure how wrong your model's prections are to the ideal outputs, lower is better\n",
        "\n",
        "Optimizer: Takes into account the loss of a model and adjusts the model's parameters (e.g., wiehgt & bias in the los unction). SGD is the most popular one.\n",
        "\n",
        "For PyTorch we need a training and testing loop."
      ],
      "metadata": {
        "id": "oZ4xD9oHZBZs"
      }
    },
    {
      "cell_type": "code",
      "source": [
        "#sets up a loss funciton\n",
        "loss_fn = nn.L1Loss()\n",
        "\n",
        "#sets up an optimiser\n",
        "#learning rate is the most important hyperparameter you can set\n",
        "optimizer = torch.optim.SGD(params=model_0.parameters(), lr=0.01)\n"
      ],
      "metadata": {
        "id": "m1oEP5bnVdxT"
      },
      "execution_count": null,
      "outputs": []
    },
    {
      "cell_type": "markdown",
      "source": [
        "#Building a training/testing loop in PyTorch\n",
        "\n",
        "A training loop\n",
        "0. Loops through the data\n",
        "1. Forward pass (this involves data moving through our model's forward() functions) to make predictions on data - forward propagation\n",
        "2. Calculate the loss\n",
        "3. Optimizer zero grad\n",
        "4. Loss backward - moves backwards through the network to calculate the gradiens of each of the parameters of our model with respect to the loss (backpropagation)\n",
        "5. Optimizer step - use the optimizer to adjust our model's parametes to try and improve the loss  (gradient descent)"
      ],
      "metadata": {
        "id": "aJ3nbwZdakeo"
      }
    },
    {
      "cell_type": "code",
      "source": [
        "epochs = 200\n",
        "\n",
        "epoch_count = []\n",
        "loss_values = []\n",
        "test_loss_values = []\n",
        "\n",
        "#0 Loop through the data\n",
        "for epoch in range(epochs):\n",
        "  model_0.train()\n",
        "\n",
        "  #1. Foward pass\n",
        "  y_pred = model_0(X_train)\n",
        "\n",
        "  #2. Calculate the loss\n",
        "  loss = loss_fn(y_pred, y_train)\n",
        "\n",
        "  #3. Optimizer zero grad\n",
        "  optimizer.zero_grad()\n",
        "\n",
        "  #4. Loss backward\n",
        "  loss.backward()\n",
        "\n",
        "  #5. Optimizer step\n",
        "  optimizer.step()\n",
        "\n",
        "  #Testing\n",
        "  model_0.eval()\n"
      ],
      "metadata": {
        "id": "jYgjyi0jah75"
      },
      "execution_count": null,
      "outputs": []
    },
    {
      "cell_type": "markdown",
      "source": [
        "#Saving/loading a model\n",
        "\n",
        "1. torch.save() - allows you to save a PyTorch object in Python's pickle format\n",
        "2. torch.load() - allows you to load a saved PyTorch object\n",
        "3. torch.nn.Module.load_state_dic() - this allows you to load a model's saved state dictionary\n",
        "\n",
        "a state dict is a python dictionary object that maps each layer to its parameter tensor."
      ],
      "metadata": {
        "id": "S0fuWcRcgoAD"
      }
    },
    {
      "cell_type": "code",
      "source": [
        "from pathlib import Path\n",
        "\n",
        "#1. create models directory\n",
        "MODEL_PATH = Path('models')\n",
        "MODEL_PATH.mkdir(parents=True, exist_ok=True) #if it already exists, it won't\n",
        "#raise an error\n",
        "\n",
        "#2. Create model save path\n",
        "MODEL_NAME = '01_pytorch_workflow.pth'\n",
        "MODEL_SAVE_PATH = MODEL_PATH / MODEL_NAME\n",
        "\n",
        "#3. Save the model state dict\n",
        "print(f'Saving model to: {MODEL_SAVE_PATH}')\n",
        "torch.save(obj=model_0.state_dict(), f=MODEL_SAVE_PATH)"
      ],
      "metadata": {
        "id": "RGVJTP9Thwhe",
        "colab": {
          "base_uri": "https://localhost:8080/"
        },
        "outputId": "b6c3b3dc-8e2d-4a05-e525-146599499770"
      },
      "execution_count": null,
      "outputs": [
        {
          "output_type": "stream",
          "name": "stdout",
          "text": [
            "Saving model to: models/01_pytorch_workflow.pth\n"
          ]
        }
      ]
    },
    {
      "cell_type": "code",
      "source": [
        "loaded_model_0 = LinearRegressionModel()\n",
        "loaded_model_0.load_state_dict(torch.load(f=MODEL_SAVE_PATH))"
      ],
      "metadata": {
        "id": "Ak2-xg6bijsP",
        "colab": {
          "base_uri": "https://localhost:8080/"
        },
        "outputId": "ce195394-5a80-4a78-dc09-ae0e3aa5f240"
      },
      "execution_count": null,
      "outputs": [
        {
          "output_type": "execute_result",
          "data": {
            "text/plain": [
              "<All keys matched successfully>"
            ]
          },
          "metadata": {},
          "execution_count": 18
        }
      ]
    },
    {
      "cell_type": "code",
      "source": [
        "test(loaded_model_0)"
      ],
      "metadata": {
        "colab": {
          "base_uri": "https://localhost:8080/",
          "height": 464
        },
        "id": "upJyNj6OjYEK",
        "outputId": "ba88538a-1025-4d17-8a9a-d248ec80ccd7"
      },
      "execution_count": null,
      "outputs": [
        {
          "output_type": "display_data",
          "data": {
            "text/plain": [
              "<Figure size 1000x700 with 1 Axes>"
            ],
            "image/png": "[encoded data removed]"
          },
          "metadata": {}
        }
      ]
    },
    {
      "cell_type": "code",
      "source": [
        "from torch import nn\n",
        "\n",
        "#setting the device of this\n",
        "device = \"cuda\" if torch.cuda.is_available() else \"cpu\"\n",
        "\n",
        "weight = 1.4\n",
        "bias = .32\n",
        "\n",
        "#create range values\n",
        "start = 0\n",
        "end = 1\n",
        "step = 0.02\n",
        "\n",
        "#create X and y\n",
        "X = torch.arange(start, end, step).unsqueeze(dim=1)\n",
        "y = weight * X + bias\n",
        "\n",
        "#split the data into training sets\n",
        "train_split = int(0.8 * len(X))\n",
        "X_train, y_train = X[:train_split], y[:train_split]\n",
        "X_test, y_test = X[train_split:], y[train_split:]\n",
        "\n",
        "#building a model or picking one that fits\n",
        "class newModel(nn.Module):\n",
        "  #initializing the new model\n",
        "  def __init__(self):\n",
        "    super().__init__()\n",
        "    #generally initalize layers intentionally\n",
        "    self.linear_layer = nn.Linear(in_features = 1, out_features=1)\n",
        "\n",
        "  #overwritting the forward method\n",
        "  def forward(self, x):\n",
        "    return self.linear_layer(x)\n",
        "\n",
        "torch.manual_seed(81)\n",
        "\n",
        "model_1 = newModel()\n",
        "\n",
        "loss_fn = nn.L1Loss()\n",
        "optimizer = torch.optim.SGD(params=model_1.parameters(), lr=0.01)"
      ],
      "metadata": {
        "id": "U1Sl8MG5kNot"
      },
      "execution_count": null,
      "outputs": []
    },
    {
      "cell_type": "code",
      "source": [
        "epochs = 100\n",
        "\n",
        "#training loop for the AI\n",
        "for epoch in range(epochs):\n",
        "  model_1.train()\n",
        "\n",
        "  y_pred = model_1(X_train)\n",
        "\n",
        "  loss = loss_fn(y_pred, y_train)\n",
        "\n",
        "  optimizer.zero_grad()\n",
        "\n",
        "  loss.backward()\n",
        "\n",
        "  optimizer.step()\n",
        "\n",
        "  model_1.eval()"
      ],
      "metadata": {
        "id": "dfKBccxRnO4B"
      },
      "execution_count": null,
      "outputs": []
    },
    {
      "cell_type": "code",
      "source": [
        "test(model_1)"
      ],
      "metadata": {
        "colab": {
          "base_uri": "https://localhost:8080/",
          "height": 460
        },
        "id": "HA_lPSbwus-a",
        "outputId": "086f698b-f631-47ff-9448-bf481578aadd"
      },
      "execution_count": null,
      "outputs": [
        {
          "output_type": "display_data",
          "data": {
            "text/plain": [
              "<Figure size 1000x700 with 1 Axes>"
            ],
            "image/png": "[encoded data removed]"
          },
          "metadata": {}
        }
      ]
    },
    {
      "cell_type": "code",
      "source": [
        "from pathlib import Path\n",
        "\n",
        "#1. create models directory\n",
        "MODEL_PATH = Path('models')\n",
        "MODEL_PATH.mkdir(parents=True, exist_ok=True) #if it already exists, it won't\n",
        "#raise an error\n",
        "\n",
        "#2. Create model save path\n",
        "MODEL_NAME = '01_pytorch_workflow.pth'\n",
        "MODEL_SAVE_PATH = MODEL_PATH / MODEL_NAME\n",
        "\n",
        "#3. Save the model state dict\n",
        "print(f'Saving model to: {MODEL_SAVE_PATH}')\n",
        "torch.save(obj=model_1.state_dict(), f=MODEL_SAVE_PATH)\n",
        "\n",
        "model_1.load_state_dict(torch.load(f=MODEL_SAVE_PATH))"
      ],
      "metadata": {
        "colab": {
          "base_uri": "https://localhost:8080/"
        },
        "id": "OFEayzC1u7jc",
        "outputId": "e52b1c54-516b-4ce9-e006-3a10f87b66cb"
      },
      "execution_count": null,
      "outputs": [
        {
          "output_type": "stream",
          "name": "stdout",
          "text": [
            "Saving model to: models/01_pytorch_workflow.pth\n"
          ]
        },
        {
          "output_type": "execute_result",
          "data": {
            "text/plain": [
              "<All keys matched successfully>"
            ]
          },
          "metadata": {},
          "execution_count": 16
        }
      ]
    },
    {
      "cell_type": "code",
      "source": [],
      "metadata": {
        "id": "tzyYkbblvVRX"
      },
      "execution_count": null,
      "outputs": []
    }
  ]
}